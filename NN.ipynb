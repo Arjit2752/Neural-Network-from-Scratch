{
 "cells": [
  {
   "cell_type": "code",
   "execution_count": 1,
   "metadata": {
    "colab": {},
    "colab_type": "code",
    "id": "mYaib4GSDl0l"
   },
   "outputs": [],
   "source": [
    "import pandas as pd\n",
    "import numpy as np\n",
    "from keras.datasets import mnist"
   ]
  },
  {
   "cell_type": "code",
   "execution_count": 2,
   "metadata": {
    "colab": {
     "base_uri": "https://localhost:8080/",
     "height": 90,
     "resources": {
      "http://localhost:8080/nbextensions/google.colab/files.js": {
       "data": "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",
       "headers": [
        [
         "content-type",
         "application/javascript"
        ]
       ],
       "ok": true,
       "status": 200,
       "status_text": ""
      }
     }
    },
    "colab_type": "code",
    "id": "jgkjDx33D0xn",
    "outputId": "55f633b9-548a-4785-a99f-b74cfeb537a0"
   },
   "outputs": [
    {
     "data": {
      "text/html": [
       "\n",
       "     <input type=\"file\" id=\"files-22603393-4673-4e5c-b02a-eb76a6626549\" name=\"files[]\" multiple disabled\n",
       "        style=\"border:none\" />\n",
       "     <output id=\"result-22603393-4673-4e5c-b02a-eb76a6626549\">\n",
       "      Upload widget is only available when the cell has been executed in the\n",
       "      current browser session. Please rerun this cell to enable.\n",
       "      </output>\n",
       "      <script src=\"/nbextensions/google.colab/files.js\"></script> "
      ],
      "text/plain": [
       "<IPython.core.display.HTML object>"
      ]
     },
     "metadata": {
      "tags": []
     },
     "output_type": "display_data"
    },
    {
     "name": "stdout",
     "output_type": "stream",
     "text": [
      "Saving MLP.py to MLP.py\n",
      "User uploaded file \"MLP.py\" with length 16355 bytes\n"
     ]
    }
   ],
   "source": [
    "from google.colab import files\n",
    "\n",
    "uploaded = files.upload()\n",
    "\n",
    "for fn in uploaded.keys():\n",
    "  print('User uploaded file \"{name}\" with length {length} bytes'.format(\n",
    "      name=fn, length=len(uploaded[fn])))"
   ]
  },
  {
   "cell_type": "markdown",
   "metadata": {
    "colab_type": "text",
    "id": "SSA6plj449Nv"
   },
   "source": [
    "# Importing MNIST Data "
   ]
  },
  {
   "cell_type": "code",
   "execution_count": 3,
   "metadata": {
    "colab": {
     "base_uri": "https://localhost:8080/",
     "height": 50
    },
    "colab_type": "code",
    "id": "FY_XFt7cFVfA",
    "outputId": "3e972d43-3f23-4600-fb41-b57d36e84251"
   },
   "outputs": [
    {
     "name": "stdout",
     "output_type": "stream",
     "text": [
      "Downloading data from https://storage.googleapis.com/tensorflow/tf-keras-datasets/mnist.npz\n",
      "11493376/11490434 [==============================] - 0s 0us/step\n"
     ]
    }
   ],
   "source": [
    "(train_x, train_y), (test_x, test_y) = mnist.load_data()"
   ]
  },
  {
   "cell_type": "code",
   "execution_count": 4,
   "metadata": {
    "colab": {
     "base_uri": "https://localhost:8080/",
     "height": 50
    },
    "colab_type": "code",
    "id": "e1jQd83CIIje",
    "outputId": "a049a75f-74e0-4ceb-fb1d-e739bdadd17b"
   },
   "outputs": [
    {
     "name": "stdout",
     "output_type": "stream",
     "text": [
      "Train: X=(60000, 28, 28), y=(60000,)\n",
      "Test: X=(10000, 28, 28), y=(10000,)\n"
     ]
    }
   ],
   "source": [
    "print('Train: X=%s, y=%s' % (train_x.shape, train_y.shape))\n",
    "print('Test: X=%s, y=%s' % (test_x.shape, test_y.shape))"
   ]
  },
  {
   "cell_type": "code",
   "execution_count": 9,
   "metadata": {
    "colab": {},
    "colab_type": "code",
    "id": "VoGg00qkKREk"
   },
   "outputs": [],
   "source": [
    "tr_y = np.zeros((train_y.shape[0], 10),np.uint16)\n",
    "te_y = np.zeros((test_y.shape[0], 10),np.uint16)"
   ]
  },
  {
   "cell_type": "code",
   "execution_count": 10,
   "metadata": {
    "colab": {
     "base_uri": "https://localhost:8080/",
     "height": 50
    },
    "colab_type": "code",
    "id": "NZCyFLBiKQ9O",
    "outputId": "9ba588d9-7cb0-49ab-d05b-a55b59ede6a3"
   },
   "outputs": [
    {
     "name": "stdout",
     "output_type": "stream",
     "text": [
      "(60000, 10)\n",
      "(10000, 10)\n"
     ]
    }
   ],
   "source": [
    "print(tr_y.shape)\n",
    "print(te_y.shape)"
   ]
  },
  {
   "cell_type": "code",
   "execution_count": 12,
   "metadata": {
    "colab": {},
    "colab_type": "code",
    "id": "h7NPdwmMdBMM"
   },
   "outputs": [],
   "source": [
    "# converting train_x and test_x to shape-> (train_x.shape[0], 784) & (test_x.shape[0], 784)\n",
    "train_x = train_x.reshape(-1, 784)\n",
    "train_x = train_x/255.0\n",
    "test_x = test_x.reshape(-1, 784)\n",
    "test_x = test_x/255.0"
   ]
  },
  {
   "cell_type": "code",
   "execution_count": 13,
   "metadata": {
    "colab": {
     "base_uri": "https://localhost:8080/",
     "height": 34
    },
    "colab_type": "code",
    "id": "uzKFGo0LdJC-",
    "outputId": "5c283b80-2f36-48a0-c3b2-1a0b496d7868"
   },
   "outputs": [
    {
     "data": {
      "text/plain": [
       "(60000, 784)"
      ]
     },
     "execution_count": 13,
     "metadata": {
      "tags": []
     },
     "output_type": "execute_result"
    }
   ],
   "source": [
    "train_x.shape"
   ]
  },
  {
   "cell_type": "code",
   "execution_count": 15,
   "metadata": {
    "colab": {},
    "colab_type": "code",
    "id": "wNCTej5EVzLR"
   },
   "outputs": [],
   "source": [
    "# converting train_y and test_y to shape-> (train_y.shape[0], 10) & (test_y.shape[0], 10) and\n",
    "for i in range(train_y.shape[0]):\n",
    "  dg = train_y[i]\n",
    "  tr_y[i][dg] = 1\n",
    "\n",
    "for i in range(test_y.shape[0]):\n",
    "  dg = test_y[i]\n",
    "  te_y[i][dg] = 1 "
   ]
  },
  {
   "cell_type": "code",
   "execution_count": 16,
   "metadata": {
    "colab": {
     "base_uri": "https://localhost:8080/",
     "height": 34
    },
    "colab_type": "code",
    "id": "ATjKRvTsX-vM",
    "outputId": "b03f8a93-09b0-4004-f69d-36f437c99f4a"
   },
   "outputs": [
    {
     "data": {
      "text/plain": [
       "array([0, 0, 0, 0, 0, 1, 0, 0, 0, 0], dtype=uint16)"
      ]
     },
     "execution_count": 16,
     "metadata": {
      "tags": []
     },
     "output_type": "execute_result"
    }
   ],
   "source": [
    "# the index value of 1 is the label for that input\n",
    "tr_y[0]"
   ]
  },
  {
   "cell_type": "code",
   "execution_count": 18,
   "metadata": {
    "colab": {
     "base_uri": "https://localhost:8080/",
     "height": 50
    },
    "colab_type": "code",
    "id": "HaUkq_k6YQUB",
    "outputId": "91e564ef-1f29-433f-904c-36bb70223c9f"
   },
   "outputs": [
    {
     "name": "stdout",
     "output_type": "stream",
     "text": [
      "Train: X=(60000, 784), y=(60000,)\n",
      "Test: X=(10000, 784), y=(10000,)\n"
     ]
    }
   ],
   "source": [
    "print('Train: X=%s, y=%s' % (train_x.shape, train_y.shape))\n",
    "print('Test: X=%s, y=%s' % (test_x.shape, test_y.shape))"
   ]
  },
  {
   "cell_type": "code",
   "execution_count": 19,
   "metadata": {
    "colab": {
     "base_uri": "https://localhost:8080/",
     "height": 34
    },
    "colab_type": "code",
    "id": "eicXI6jY0NQs",
    "outputId": "5e346b34-474b-42e8-9415-15daa06c0ba2"
   },
   "outputs": [
    {
     "name": "stdout",
     "output_type": "stream",
     "text": [
      "Train labels to input=  (60000, 10)\n"
     ]
    }
   ],
   "source": [
    "print('Train labels to input= ', tr_y.shape)"
   ]
  },
  {
   "cell_type": "markdown",
   "metadata": {
    "colab_type": "text",
    "id": "LgDl5cRB9gR_"
   },
   "source": [
    "# Importing MLP\n",
    "### NOTE: THE HYPERPARAMETERS GIVEN BELOW ARE JUST FOR EXAMPLE. THESE ARE NOT RIGHT HYPERPARAMETERS, THATS WHY ACCURACY IS VERY BAD"
   ]
  },
  {
   "cell_type": "code",
   "execution_count": 20,
   "metadata": {
    "colab": {},
    "colab_type": "code",
    "id": "1LiuwrGOjSBH"
   },
   "outputs": [],
   "source": [
    "from MLP import *\n"
   ]
  },
  {
   "cell_type": "code",
   "execution_count": 30,
   "metadata": {
    "colab": {},
    "colab_type": "code",
    "id": "yqa1A41-jXwp"
   },
   "outputs": [],
   "source": [
    "nn =MLP(784, 10, [64, 64, 32], activations=[Sigmoid(), Sigmoid(), Sigmoid(), Identity()], batch_size=1000, epochs=100, learning_rate=0.01, replace=True)"
   ]
  },
  {
   "cell_type": "code",
   "execution_count": 22,
   "metadata": {
    "colab": {},
    "colab_type": "code",
    "id": "xwAeAvEPN6Uh"
   },
   "outputs": [],
   "source": [
    "# nn =MLP(784, 10, [32], activations=[Sigmoid(), Identity()], batch_size=200, epochs=1000, learning_rate=0.01, replace=True)"
   ]
  },
  {
   "cell_type": "code",
   "execution_count": 31,
   "metadata": {
    "colab": {
     "base_uri": "https://localhost:8080/",
     "height": 1000
    },
    "colab_type": "code",
    "id": "tl8Nw_4ijXsA",
    "outputId": "3ecc0c0d-c141-4093-d545-bf1993a89b30"
   },
   "outputs": [
    {
     "name": "stdout",
     "output_type": "stream",
     "text": [
      "Epoch = 1/100, Loss = 3.4093749622970226, Correct_predicted = 92/1000 Accuracy = 0.092\n",
      "Epoch = 2/100, Loss = 3.2815970675880464, Correct_predicted = 115/1000 Accuracy = 0.115\n",
      "Epoch = 3/100, Loss = 3.434253849317168, Correct_predicted = 84/1000 Accuracy = 0.084\n",
      "Epoch = 4/100, Loss = 3.2784756345461963, Correct_predicted = 105/1000 Accuracy = 0.105\n",
      "Epoch = 5/100, Loss = 3.286622802427227, Correct_predicted = 97/1000 Accuracy = 0.097\n",
      "Epoch = 6/100, Loss = 3.155499382294018, Correct_predicted = 100/1000 Accuracy = 0.1\n",
      "Epoch = 7/100, Loss = 3.169783077514698, Correct_predicted = 95/1000 Accuracy = 0.095\n",
      "Epoch = 8/100, Loss = 3.251392749651396, Correct_predicted = 94/1000 Accuracy = 0.094\n",
      "Epoch = 9/100, Loss = 3.1747495530065946, Correct_predicted = 102/1000 Accuracy = 0.102\n",
      "Epoch = 10/100, Loss = 3.2718375867740743, Correct_predicted = 104/1000 Accuracy = 0.104\n",
      "Epoch = 11/100, Loss = 3.1527728201919905, Correct_predicted = 99/1000 Accuracy = 0.099\n",
      "Epoch = 12/100, Loss = 3.0850299569803585, Correct_predicted = 101/1000 Accuracy = 0.101\n",
      "Epoch = 13/100, Loss = 3.016954210979404, Correct_predicted = 110/1000 Accuracy = 0.11\n",
      "Epoch = 14/100, Loss = 3.029992663299527, Correct_predicted = 91/1000 Accuracy = 0.091\n",
      "Epoch = 15/100, Loss = 3.111190641044886, Correct_predicted = 109/1000 Accuracy = 0.109\n",
      "Epoch = 16/100, Loss = 3.050318686736354, Correct_predicted = 108/1000 Accuracy = 0.108\n",
      "Epoch = 17/100, Loss = 2.9290700951941213, Correct_predicted = 102/1000 Accuracy = 0.102\n",
      "Epoch = 18/100, Loss = 2.9613657071047554, Correct_predicted = 81/1000 Accuracy = 0.081\n",
      "Epoch = 19/100, Loss = 2.907378800779476, Correct_predicted = 100/1000 Accuracy = 0.1\n",
      "Epoch = 20/100, Loss = 2.9125160854852092, Correct_predicted = 89/1000 Accuracy = 0.089\n",
      "Epoch = 21/100, Loss = 2.9381905853760273, Correct_predicted = 91/1000 Accuracy = 0.091\n",
      "Epoch = 22/100, Loss = 2.923854784751835, Correct_predicted = 111/1000 Accuracy = 0.111\n",
      "Epoch = 23/100, Loss = 2.8274916157187233, Correct_predicted = 93/1000 Accuracy = 0.093\n",
      "Epoch = 24/100, Loss = 2.797020134429012, Correct_predicted = 102/1000 Accuracy = 0.102\n",
      "Epoch = 25/100, Loss = 2.783769490890925, Correct_predicted = 102/1000 Accuracy = 0.102\n",
      "Epoch = 26/100, Loss = 2.854705503718845, Correct_predicted = 106/1000 Accuracy = 0.106\n",
      "Epoch = 27/100, Loss = 2.894220470104769, Correct_predicted = 101/1000 Accuracy = 0.101\n",
      "Epoch = 28/100, Loss = 2.876249521411841, Correct_predicted = 108/1000 Accuracy = 0.108\n",
      "Epoch = 29/100, Loss = 2.776855653723969, Correct_predicted = 96/1000 Accuracy = 0.096\n",
      "Epoch = 30/100, Loss = 2.718271223617744, Correct_predicted = 106/1000 Accuracy = 0.106\n",
      "Epoch = 31/100, Loss = 2.7255946754749565, Correct_predicted = 102/1000 Accuracy = 0.102\n",
      "Epoch = 32/100, Loss = 2.769901173155675, Correct_predicted = 100/1000 Accuracy = 0.1\n",
      "Epoch = 33/100, Loss = 2.7719678247096677, Correct_predicted = 87/1000 Accuracy = 0.087\n",
      "Epoch = 34/100, Loss = 2.6780478193668786, Correct_predicted = 107/1000 Accuracy = 0.107\n",
      "Epoch = 35/100, Loss = 2.7545331219422398, Correct_predicted = 108/1000 Accuracy = 0.108\n",
      "Epoch = 36/100, Loss = 2.7086127838622516, Correct_predicted = 95/1000 Accuracy = 0.095\n",
      "Epoch = 37/100, Loss = 2.656315707697896, Correct_predicted = 91/1000 Accuracy = 0.091\n",
      "Epoch = 38/100, Loss = 2.7157904997882163, Correct_predicted = 118/1000 Accuracy = 0.118\n",
      "Epoch = 39/100, Loss = 2.711026221356612, Correct_predicted = 97/1000 Accuracy = 0.097\n",
      "Epoch = 40/100, Loss = 2.7077805822932253, Correct_predicted = 89/1000 Accuracy = 0.089\n",
      "Epoch = 41/100, Loss = 2.6659751408534627, Correct_predicted = 107/1000 Accuracy = 0.107\n",
      "Epoch = 42/100, Loss = 2.6028890629837953, Correct_predicted = 100/1000 Accuracy = 0.1\n",
      "Epoch = 43/100, Loss = 2.661025848613146, Correct_predicted = 93/1000 Accuracy = 0.093\n",
      "Epoch = 44/100, Loss = 2.606601622754037, Correct_predicted = 108/1000 Accuracy = 0.108\n",
      "Epoch = 45/100, Loss = 2.6673857261179554, Correct_predicted = 104/1000 Accuracy = 0.104\n",
      "Epoch = 46/100, Loss = 2.6047647602187327, Correct_predicted = 103/1000 Accuracy = 0.103\n",
      "Epoch = 47/100, Loss = 2.684622249639185, Correct_predicted = 101/1000 Accuracy = 0.101\n",
      "Epoch = 48/100, Loss = 2.5520573467186747, Correct_predicted = 116/1000 Accuracy = 0.116\n",
      "Epoch = 49/100, Loss = 2.602596192925399, Correct_predicted = 97/1000 Accuracy = 0.097\n",
      "Epoch = 50/100, Loss = 2.5430624736136416, Correct_predicted = 98/1000 Accuracy = 0.098\n",
      "Epoch = 51/100, Loss = 2.5898515057587277, Correct_predicted = 109/1000 Accuracy = 0.109\n",
      "Epoch = 52/100, Loss = 2.557114506526218, Correct_predicted = 86/1000 Accuracy = 0.086\n",
      "Epoch = 53/100, Loss = 2.575995488241898, Correct_predicted = 91/1000 Accuracy = 0.091\n",
      "Epoch = 54/100, Loss = 2.563480514924635, Correct_predicted = 100/1000 Accuracy = 0.1\n",
      "Epoch = 55/100, Loss = 2.5242064548423837, Correct_predicted = 102/1000 Accuracy = 0.102\n",
      "Epoch = 56/100, Loss = 2.4876166227064824, Correct_predicted = 108/1000 Accuracy = 0.108\n",
      "Epoch = 57/100, Loss = 2.531132711632773, Correct_predicted = 109/1000 Accuracy = 0.109\n",
      "Epoch = 58/100, Loss = 2.518012855472083, Correct_predicted = 94/1000 Accuracy = 0.094\n",
      "Epoch = 59/100, Loss = 2.5203790109199473, Correct_predicted = 122/1000 Accuracy = 0.122\n",
      "Epoch = 60/100, Loss = 2.5070164198724387, Correct_predicted = 131/1000 Accuracy = 0.131\n",
      "Epoch = 61/100, Loss = 2.4608487675490522, Correct_predicted = 126/1000 Accuracy = 0.126\n",
      "Epoch = 62/100, Loss = 2.50595936810496, Correct_predicted = 104/1000 Accuracy = 0.104\n",
      "Epoch = 63/100, Loss = 2.5053670919780306, Correct_predicted = 115/1000 Accuracy = 0.115\n",
      "Epoch = 64/100, Loss = 2.4906472051371247, Correct_predicted = 99/1000 Accuracy = 0.099\n",
      "Epoch = 65/100, Loss = 2.4928682478432393, Correct_predicted = 104/1000 Accuracy = 0.104\n",
      "Epoch = 66/100, Loss = 2.444134664258986, Correct_predicted = 114/1000 Accuracy = 0.114\n",
      "Epoch = 67/100, Loss = 2.4721352137808617, Correct_predicted = 124/1000 Accuracy = 0.124\n",
      "Epoch = 68/100, Loss = 2.4663833892327176, Correct_predicted = 98/1000 Accuracy = 0.098\n",
      "Epoch = 69/100, Loss = 2.489702709512662, Correct_predicted = 110/1000 Accuracy = 0.11\n",
      "Epoch = 70/100, Loss = 2.4871489647623806, Correct_predicted = 128/1000 Accuracy = 0.128\n",
      "Epoch = 71/100, Loss = 2.470427183190752, Correct_predicted = 102/1000 Accuracy = 0.102\n",
      "Epoch = 72/100, Loss = 2.4683630492204944, Correct_predicted = 110/1000 Accuracy = 0.11\n",
      "Epoch = 73/100, Loss = 2.452716262942667, Correct_predicted = 121/1000 Accuracy = 0.121\n",
      "Epoch = 74/100, Loss = 2.3993874365552545, Correct_predicted = 114/1000 Accuracy = 0.114\n",
      "Epoch = 75/100, Loss = 2.4280842533816607, Correct_predicted = 121/1000 Accuracy = 0.121\n",
      "Epoch = 76/100, Loss = 2.4539550627602957, Correct_predicted = 116/1000 Accuracy = 0.116\n",
      "Epoch = 77/100, Loss = 2.4239493741944624, Correct_predicted = 112/1000 Accuracy = 0.112\n",
      "Epoch = 78/100, Loss = 2.4281120246138554, Correct_predicted = 114/1000 Accuracy = 0.114\n",
      "Epoch = 79/100, Loss = 2.4185165791015417, Correct_predicted = 107/1000 Accuracy = 0.107\n",
      "Epoch = 80/100, Loss = 2.3916922454858986, Correct_predicted = 110/1000 Accuracy = 0.11\n",
      "Epoch = 81/100, Loss = 2.4786005162088895, Correct_predicted = 114/1000 Accuracy = 0.114\n",
      "Epoch = 82/100, Loss = 2.4044254690430815, Correct_predicted = 128/1000 Accuracy = 0.128\n",
      "Epoch = 83/100, Loss = 2.412035899865776, Correct_predicted = 109/1000 Accuracy = 0.109\n",
      "Epoch = 84/100, Loss = 2.396279233514023, Correct_predicted = 122/1000 Accuracy = 0.122\n",
      "Epoch = 85/100, Loss = 2.381292665686148, Correct_predicted = 127/1000 Accuracy = 0.127\n",
      "Epoch = 86/100, Loss = 2.4065074080608193, Correct_predicted = 101/1000 Accuracy = 0.101\n",
      "Epoch = 87/100, Loss = 2.382063869351194, Correct_predicted = 91/1000 Accuracy = 0.091\n",
      "Epoch = 88/100, Loss = 2.3715574270939084, Correct_predicted = 106/1000 Accuracy = 0.106\n",
      "Epoch = 89/100, Loss = 2.390112777395737, Correct_predicted = 110/1000 Accuracy = 0.11\n",
      "Epoch = 90/100, Loss = 2.3640076566734742, Correct_predicted = 107/1000 Accuracy = 0.107\n",
      "Epoch = 91/100, Loss = 2.4138410025525356, Correct_predicted = 129/1000 Accuracy = 0.129\n",
      "Epoch = 92/100, Loss = 2.381990478446681, Correct_predicted = 123/1000 Accuracy = 0.123\n",
      "Epoch = 93/100, Loss = 2.374176443101488, Correct_predicted = 102/1000 Accuracy = 0.102\n",
      "Epoch = 94/100, Loss = 2.364812216376719, Correct_predicted = 126/1000 Accuracy = 0.126\n",
      "Epoch = 95/100, Loss = 2.366286959550458, Correct_predicted = 109/1000 Accuracy = 0.109\n",
      "Epoch = 96/100, Loss = 2.356989668728023, Correct_predicted = 122/1000 Accuracy = 0.122\n",
      "Epoch = 97/100, Loss = 2.3729890816300374, Correct_predicted = 116/1000 Accuracy = 0.116\n",
      "Epoch = 98/100, Loss = 2.3524730721081237, Correct_predicted = 132/1000 Accuracy = 0.132\n",
      "Epoch = 99/100, Loss = 2.3643506381377235, Correct_predicted = 102/1000 Accuracy = 0.102\n",
      "Epoch = 100/100, Loss = 2.3658217122571696, Correct_predicted = 135/1000 Accuracy = 0.135\n"
     ]
    }
   ],
   "source": [
    "nn.fit(train_x, tr_y)"
   ]
  },
  {
   "cell_type": "code",
   "execution_count": 32,
   "metadata": {
    "colab": {},
    "colab_type": "code",
    "id": "8U9wH8qQUOgi"
   },
   "outputs": [],
   "source": [
    "# PREDICTED LABELS VECTOR FOR TEST DATA\n",
    "y_pred = nn.predict(test_x)"
   ]
  },
  {
   "cell_type": "code",
   "execution_count": 33,
   "metadata": {
    "colab": {
     "base_uri": "https://localhost:8080/",
     "height": 34
    },
    "colab_type": "code",
    "id": "gi-ds6vv07lk",
    "outputId": "f716ab91-54c8-483d-aed7-fcc1d393c520"
   },
   "outputs": [
    {
     "data": {
      "text/plain": [
       "(10000,)"
      ]
     },
     "execution_count": 33,
     "metadata": {
      "tags": []
     },
     "output_type": "execute_result"
    }
   ],
   "source": [
    "y_pred.shape"
   ]
  },
  {
   "cell_type": "code",
   "execution_count": 34,
   "metadata": {
    "colab": {
     "base_uri": "https://localhost:8080/",
     "height": 34
    },
    "colab_type": "code",
    "id": "zLtXKgBEMXJi",
    "outputId": "b36eb635-8dde-4230-d678-3de0e78689f9"
   },
   "outputs": [
    {
     "name": "stdout",
     "output_type": "stream",
     "text": [
      "0.1135\n"
     ]
    }
   ],
   "source": [
    "# ACCURACY FOR TEST DATA\n",
    "# y_pred.shape = (10000, ) -> numpy vector\n",
    "# test_y.shape = (10000, ) -> numpy vector\n",
    "acc = nn.accuracy(y_pred, test_y)\n",
    "print(acc)"
   ]
  },
  {
   "cell_type": "code",
   "execution_count": 35,
   "metadata": {
    "colab": {
     "base_uri": "https://localhost:8080/",
     "height": 34
    },
    "colab_type": "code",
    "id": "hAH4R9FcMgyH",
    "outputId": "c71e36fe-04d2-4136-cea2-b3b3ec91c5e7"
   },
   "outputs": [
    {
     "data": {
      "text/plain": [
       "1135"
      ]
     },
     "execution_count": 35,
     "metadata": {
      "tags": []
     },
     "output_type": "execute_result"
    }
   ],
   "source": [
    "# nn. correct will give the number of inputs predicted correctly\n",
    "# self.correct got updated each time a batch is passed, so it always returns the value for last input batch or test data passed\n",
    "# like here the last batch passed is test data so it is returning value for test data\n",
    "nn.correct"
   ]
  },
  {
   "cell_type": "code",
   "execution_count": 37,
   "metadata": {
    "colab": {},
    "colab_type": "code",
    "id": "AdvmZ_R0Mnjh"
   },
   "outputs": [],
   "source": [
    "# probability matrix for test data\n",
    "pred_probs = nn.predict_prob(test_x)"
   ]
  },
  {
   "cell_type": "code",
   "execution_count": 39,
   "metadata": {
    "colab": {
     "base_uri": "https://localhost:8080/",
     "height": 34
    },
    "colab_type": "code",
    "id": "k6A6B5WgMvIO",
    "outputId": "c8017fa5-b4dd-4bae-fc89-461971ffb763"
   },
   "outputs": [
    {
     "data": {
      "text/plain": [
       "(10000, 10)"
      ]
     },
     "execution_count": 39,
     "metadata": {
      "tags": []
     },
     "output_type": "execute_result"
    }
   ],
   "source": [
    "pred_probs.shape"
   ]
  },
  {
   "cell_type": "code",
   "execution_count": null,
   "metadata": {
    "colab": {},
    "colab_type": "code",
    "id": "2TfYfEaGulKh"
   },
   "outputs": [],
   "source": []
  }
 ],
 "metadata": {
  "colab": {
   "collapsed_sections": [],
   "name": "NN.ipynb",
   "provenance": []
  },
  "kernelspec": {
   "display_name": "Python 3",
   "language": "python",
   "name": "python3"
  },
  "language_info": {
   "codemirror_mode": {
    "name": "ipython",
    "version": 3
   },
   "file_extension": ".py",
   "mimetype": "text/x-python",
   "name": "python",
   "nbconvert_exporter": "python",
   "pygments_lexer": "ipython3",
   "version": "3.7.0"
  }
 },
 "nbformat": 4,
 "nbformat_minor": 2
}
